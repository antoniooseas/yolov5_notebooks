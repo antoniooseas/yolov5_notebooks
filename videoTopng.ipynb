{
 "cells": [
  {
   "cell_type": "code",
   "execution_count": 91,
   "id": "cb355d64-362c-4d31-acd3-8a08013e3972",
   "metadata": {},
   "outputs": [],
   "source": [
    "import cv2\n",
    "import os"
   ]
  },
  {
   "cell_type": "code",
   "execution_count": 93,
   "id": "a0f13c3f-6588-4260-a1d3-d595cf0532c1",
   "metadata": {},
   "outputs": [
    {
     "name": "stdout",
     "output_type": "stream",
     "text": [
      "Extração de quadros concluída.\n"
     ]
    }
   ],
   "source": [
    "path_videos = '/Users/Oseas/Documents/nestle-safety/noite/'\n",
    "videos = os.listdir(path_videos)\n",
    "for video in videos:\n",
    "    if video.endswith(\".avi\"):\n",
    "        video_folder = os.path.join(path_videos, os.path.splitext(video)[0])\n",
    "        os.makedirs(video_folder, exist_ok=True)\n",
    "        cap = cv2.VideoCapture(os.path.join(path_videos, video))        \n",
    "        #percorrer cada quadro do vídeo\n",
    "        frame_count = 0\n",
    "        #contagem em segundos\n",
    "        count = 0\n",
    "        while True:\n",
    "            cap.set(cv2.CAP_PROP_POS_MSEC,(count*1000)) \n",
    "            ret, frame = cap.read()\n",
    "            if not ret:\n",
    "                break\n",
    "            frame_path = os.path.join(video_folder, \"frame\"+str(frame_count)+\".jpg\")\n",
    "            cv2.imwrite(frame_path, frame)\n",
    "            # atualizar os contadores de quadros e segundos\n",
    "            frame_count += 1\n",
    "            count = count + 1\n",
    "        cap.release()\n",
    "print(\"Extração de quadros concluída.\")"
   ]
  },
  {
   "cell_type": "code",
   "execution_count": null,
   "id": "68d6d855-a0d7-48a4-904e-2aefb30bcd85",
   "metadata": {},
   "outputs": [],
   "source": []
  }
 ],
 "metadata": {
  "kernelspec": {
   "display_name": "Python 3",
   "language": "python",
   "name": "python3"
  },
  "language_info": {
   "codemirror_mode": {
    "name": "ipython",
    "version": 3
   },
   "file_extension": ".py",
   "mimetype": "text/x-python",
   "name": "python",
   "nbconvert_exporter": "python",
   "pygments_lexer": "ipython3",
   "version": "3.8.8"
  }
 },
 "nbformat": 4,
 "nbformat_minor": 5
}
